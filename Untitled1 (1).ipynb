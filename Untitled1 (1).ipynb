{
 "cells": [
  {
   "cell_type": "code",
   "execution_count": null,
   "id": "71900b5b-6f9e-4485-a4c7-8ec6bb752126",
   "metadata": {},
   "outputs": [
    {
     "name": "stdout",
     "output_type": "stream",
     "text": [
      "Loaded expenses from expenses.csv.\n",
      "\n",
      "--- Expense Tracker Menu ---\n",
      "1. Add expense\n",
      "2. View expenses\n",
      "3. Set budget\n",
      "4. Track budget\n",
      "5. Save expenses\n",
      "6. Exit\n"
     ]
    },
    {
     "name": "stdin",
     "output_type": "stream",
     "text": [
      "Enter your choice (1-6):  3\n",
      "Enter your monthly budget:  500\n"
     ]
    },
    {
     "name": "stdout",
     "output_type": "stream",
     "text": [
      "Monthly budget set to 500.0.\n",
      "\n",
      "--- Expense Tracker Menu ---\n",
      "1. Add expense\n",
      "2. View expenses\n",
      "3. Set budget\n",
      "4. Track budget\n",
      "5. Save expenses\n",
      "6. Exit\n"
     ]
    },
    {
     "name": "stdin",
     "output_type": "stream",
     "text": [
      "Enter your choice (1-6):  1\n",
      "Enter the date of the expense (YYYY-MM-DD):  2023-12-14\n",
      "Enter the category of the expense (e.g., Food, Travel):  Food\n",
      "Enter the amount spent:  100\n",
      "Enter a brief description of the expense:  des\n"
     ]
    },
    {
     "name": "stdout",
     "output_type": "stream",
     "text": [
      "Expense added successfully!\n",
      "\n",
      "--- Expense Tracker Menu ---\n",
      "1. Add expense\n",
      "2. View expenses\n",
      "3. Set budget\n",
      "4. Track budget\n",
      "5. Save expenses\n",
      "6. Exit\n"
     ]
    },
    {
     "name": "stdin",
     "output_type": "stream",
     "text": [
      "Enter your choice (1-6):  4\n"
     ]
    },
    {
     "name": "stdout",
     "output_type": "stream",
     "text": [
      "Total expenses so far: 10100.00\n",
      "Warning: You have exceeded your budget by 9600.00!\n",
      "\n",
      "--- Expense Tracker Menu ---\n",
      "1. Add expense\n",
      "2. View expenses\n",
      "3. Set budget\n",
      "4. Track budget\n",
      "5. Save expenses\n",
      "6. Exit\n"
     ]
    },
    {
     "name": "stdin",
     "output_type": "stream",
     "text": [
      "Enter your choice (1-6):  2\n"
     ]
    },
    {
     "name": "stdout",
     "output_type": "stream",
     "text": [
      "\n",
      "--- All Expenses ---\n",
      "Date: 2000-06-01, Category: food, Amount: 10000.0, Description: Description\n",
      "Date: 2023-12-14, Category: Food, Amount: 100.0, Description: des\n",
      "\n",
      "\n",
      "--- Expense Tracker Menu ---\n",
      "1. Add expense\n",
      "2. View expenses\n",
      "3. Set budget\n",
      "4. Track budget\n",
      "5. Save expenses\n",
      "6. Exit\n"
     ]
    },
    {
     "name": "stdin",
     "output_type": "stream",
     "text": [
      "Enter your choice (1-6):  2\n"
     ]
    },
    {
     "name": "stdout",
     "output_type": "stream",
     "text": [
      "\n",
      "--- All Expenses ---\n",
      "Date: 2000-06-01, Category: food, Amount: 10000.0, Description: Description\n",
      "Date: 2023-12-14, Category: Food, Amount: 100.0, Description: des\n",
      "\n",
      "\n",
      "--- Expense Tracker Menu ---\n",
      "1. Add expense\n",
      "2. View expenses\n",
      "3. Set budget\n",
      "4. Track budget\n",
      "5. Save expenses\n",
      "6. Exit\n"
     ]
    }
   ],
   "source": [
    "import csv\n",
    "from datetime import datetime\n",
    "\n",
    "# Global list to store expenses\n",
    "expenses = []\n",
    "monthly_budget = 0\n",
    "\n",
    "# 1. Add an expense\n",
    "def add_expense():\n",
    "    date = input(\"Enter the date of the expense (YYYY-MM-DD): \")\n",
    "    try:\n",
    "        datetime.strptime(date, '%Y-%m-%d')  # Validate date format\n",
    "    except ValueError:\n",
    "        print(\"Invalid date format. Please use YYYY-MM-DD.\")\n",
    "        return\n",
    "    \n",
    "    category = input(\"Enter the category of the expense (e.g., Food, Travel): \")\n",
    "    amount = input(\"Enter the amount spent: \")\n",
    "    try:\n",
    "        amount = float(amount)  # Validate amount\n",
    "    except ValueError:\n",
    "        print(\"Invalid amount. Please enter a numerical value.\")\n",
    "        return\n",
    "    \n",
    "    description = input(\"Enter a brief description of the expense: \")\n",
    "    expense = {'date': date, 'category': category, 'amount': amount, 'description': description}\n",
    "    expenses.append(expense)\n",
    "    print(\"Expense added successfully!\")\n",
    "\n",
    "# 2. View expenses\n",
    "def view_expenses():\n",
    "    if not expenses:\n",
    "        print(\"No expenses recorded yet.\")\n",
    "        return\n",
    "    \n",
    "    print(\"\\n--- All Expenses ---\")\n",
    "    for expense in expenses:\n",
    "        if all(key in expense for key in ['date', 'category', 'amount', 'description']):\n",
    "            print(f\"Date: {expense['date']}, Category: {expense['category']}, \"\n",
    "                  f\"Amount: {expense['amount']}, Description: {expense['description']}\")\n",
    "        else:\n",
    "            print(\"Incomplete expense entry found and skipped.\")\n",
    "    print()\n",
    "\n",
    "# 3. Set and track the budget\n",
    "def set_budget():\n",
    "    global monthly_budget\n",
    "    budget = input(\"Enter your monthly budget: \")\n",
    "    try:\n",
    "        monthly_budget = float(budget)\n",
    "        print(f\"Monthly budget set to {monthly_budget}.\")\n",
    "    except ValueError:\n",
    "        print(\"Invalid input. Please enter a numerical value.\")\n",
    "\n",
    "def track_budget():\n",
    "    if monthly_budget == 0:\n",
    "        print(\"No budget set. Please set a budget first.\")\n",
    "        return\n",
    "    \n",
    "    total_expenses = sum(expense['amount'] for expense in expenses)\n",
    "    print(f\"Total expenses so far: {total_expenses:.2f}\")\n",
    "    if total_expenses > monthly_budget:\n",
    "        print(f\"Warning: You have exceeded your budget by {total_expenses - monthly_budget:.2f}!\")\n",
    "    else:\n",
    "        print(f\"You have {monthly_budget - total_expenses:.2f} left for the month.\")\n",
    "\n",
    "# 4. Save and load expenses\n",
    "def save_expenses():\n",
    "    file_name = \"expenses.csv\"\n",
    "    try:\n",
    "        with open(file_name, mode='w', newline='') as file:\n",
    "            writer = csv.DictWriter(file, fieldnames=['date', 'category', 'amount', 'description'])\n",
    "            writer.writeheader()\n",
    "            writer.writerows(expenses)\n",
    "        print(f\"Expenses saved to {file_name}.\")\n",
    "    except Exception as e:\n",
    "        print(f\"An error occurred while saving: {e}\")\n",
    "\n",
    "def load_expenses():\n",
    "    file_name = \"expenses.csv\"\n",
    "    try:\n",
    "        with open(file_name, mode='r') as file:\n",
    "            reader = csv.DictReader(file)\n",
    "            for row in reader:\n",
    "                row['amount'] = float(row['amount'])  # Convert amount back to float\n",
    "                expenses.append(row)\n",
    "        print(f\"Loaded expenses from {file_name}.\")\n",
    "    except FileNotFoundError:\n",
    "        print(f\"{file_name} not found. Starting fresh.\")\n",
    "    except Exception as e:\n",
    "        print(f\"An error occurred while loading: {e}\")\n",
    "\n",
    "# 5. Interactive menu\n",
    "def menu():\n",
    "    load_expenses()  # Load expenses from file on startup\n",
    "    while True:\n",
    "        print(\"\\n--- Expense Tracker Menu ---\")\n",
    "        print(\"1. Add expense\")\n",
    "        print(\"2. View expenses\")\n",
    "        print(\"3. Set budget\")\n",
    "        print(\"4. Track budget\")\n",
    "        print(\"5. Save expenses\")\n",
    "        print(\"6. Exit\")\n",
    "        choice = input(\"Enter your choice (1-6): \")\n",
    "        \n",
    "        if choice == '1':\n",
    "            add_expense()\n",
    "        elif choice == '2':\n",
    "            view_expenses()\n",
    "        elif choice == '3':\n",
    "            set_budget()\n",
    "        elif choice == '4':\n",
    "            track_budget()\n",
    "        elif choice == '5':\n",
    "            save_expenses()\n",
    "        elif choice == '6':\n",
    "            save_expenses()  # Save before exiting\n",
    "            print(\"Logging Out!\")\n",
    "            break\n",
    "        else:\n",
    "            print(\"Invalid choice. Please try again.\")\n",
    "\n",
    "if __name__ == \"__main__\":\n",
    "    menu()"
   ]
  },
  {
   "cell_type": "code",
   "execution_count": null,
   "id": "e975dd12-19ff-4178-893f-5503cceb98a2",
   "metadata": {},
   "outputs": [],
   "source": []
  }
 ],
 "metadata": {
  "kernelspec": {
   "display_name": "Python 3 [3.10]",
   "language": "python",
   "name": "python3"
  },
  "language_info": {
   "codemirror_mode": {
    "name": "ipython",
    "version": 3
   },
   "file_extension": ".py",
   "mimetype": "text/x-python",
   "name": "python",
   "nbconvert_exporter": "python",
   "pygments_lexer": "ipython3",
   "version": "3.10.2"
  }
 },
 "nbformat": 4,
 "nbformat_minor": 5
}
